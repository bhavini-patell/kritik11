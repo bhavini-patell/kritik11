{
 "cells": [
  {
   "cell_type": "code",
   "execution_count": 1,
   "id": "c0887797-1a79-485b-9374-2a32c06731a7",
   "metadata": {},
   "outputs": [
    {
     "name": "stdin",
     "output_type": "stream",
     "text": [
      "Enter value for x: 9\n"
     ]
    },
    {
     "name": "stdout",
     "output_type": "stream",
     "text": [
      "Error!\n",
      "None\n"
     ]
    }
   ],
   "source": [
    "# ISCI 1A24 Assignment 1 \n",
    "# Question 4\n",
    "\n",
    "x = float(input(\"Enter value for x:\"))\n",
    "\n",
    "def gregssocks(x):\n",
    "    n = 0\n",
    "    a = 0 \n",
    "    error_bound = (x**((2*n)+1))/(2*n+1)\n",
    "    \n",
    "    if 0<=x<=1:\n",
    "        \n",
    "        while error_bound>0.0001:\n",
    "            n+=1\n",
    "            error_bound = (x**(2*n+1))/(2*n+1)\n",
    "\n",
    "        for i in range(0,n-1):\n",
    "            a+=((-1)**i*x**(2*i+1))/(2*i+1)\n",
    "        \n",
    "        degree_n = 2*n+1 \n",
    "        return a,degree_n,error_bound\n",
    "            \n",
    "    else:\n",
    "        print(\"Error!\")\n",
    "\n",
    "print(gregssocks(x))\n"
   ]
  },
  {
   "cell_type": "code",
   "execution_count": null,
   "id": "9596d409-5306-4186-be6a-856789fab4b7",
   "metadata": {},
   "outputs": [],
   "source": []
  },
  {
   "cell_type": "code",
   "execution_count": null,
   "id": "4be3d8cd-37e4-4688-b757-b943a1025c04",
   "metadata": {},
   "outputs": [],
   "source": []
  },
  {
   "cell_type": "code",
   "execution_count": null,
   "id": "8419dc13-d88d-4403-94df-a357bcd412df",
   "metadata": {},
   "outputs": [],
   "source": []
  },
  {
   "cell_type": "code",
   "execution_count": null,
   "id": "879fb735-ee29-42fa-b809-833921db60f6",
   "metadata": {},
   "outputs": [],
   "source": []
  }
 ],
 "metadata": {
  "kernelspec": {
   "display_name": "Python 3 (ipykernel)",
   "language": "python",
   "name": "python3"
  },
  "language_info": {
   "codemirror_mode": {
    "name": "ipython",
    "version": 3
   },
   "file_extension": ".py",
   "mimetype": "text/x-python",
   "name": "python",
   "nbconvert_exporter": "python",
   "pygments_lexer": "ipython3",
   "version": "3.11.4"
  }
 },
 "nbformat": 4,
 "nbformat_minor": 5
}
