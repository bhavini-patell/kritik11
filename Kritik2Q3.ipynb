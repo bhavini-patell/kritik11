{
 "cells": [
  {
   "cell_type": "code",
   "execution_count": 34,
   "id": "3c09f277-8564-458e-83d3-60d2ca6d057e",
   "metadata": {},
   "outputs": [
    {
     "name": "stdout",
     "output_type": "stream",
     "text": [
      "Roots: 0.2698741375\n",
      "Roots: 0.8336061944\n",
      "Roots: 3.1415926536\n",
      "No roots found when f(a) and f(b) have the same sign.\n"
     ]
    },
    {
     "name": "stderr",
     "output_type": "stream",
     "text": [
      "<string>:1: RuntimeWarning: divide by zero encountered in log\n"
     ]
    }
   ],
   "source": [
    "import numpy as np\n",
    "\n",
    "def roots(f, a, b):\n",
    "    def func(x):\n",
    "        return eval(f)\n",
    "\n",
    "    if func(a) * func(b) > 0:\n",
    "        print(\"No roots found when f(a) and f(b) have the same sign.\")\n",
    "    else:\n",
    "        while abs(b - a) >= 1e-10:  \n",
    "            M = (a + b) / 2\n",
    "            if func(a) * func(M) < 0:\n",
    "                b = M\n",
    "            else:\n",
    "                a = M\n",
    "        y = round(M, 10)\n",
    "        print('Roots:', y)\n",
    "\n",
    "roots('np.exp(x)+np.log(x)', 0, 1)\n",
    "roots('np.arctan(x)-x**2', 0, 1)\n",
    "roots('np.sin(x)/np.log(x)', 3, 4)\n",
    "roots('np.log(np.cos(x))', 5, 7)\n"
   ]
  },
  {
   "cell_type": "code",
   "execution_count": null,
   "id": "5c8830b2-56ac-4b8d-97ef-5f09f9b3843f",
   "metadata": {},
   "outputs": [],
   "source": []
  },
  {
   "cell_type": "code",
   "execution_count": null,
   "id": "605949a6-5df3-42d7-a8b9-5e8e2054d599",
   "metadata": {},
   "outputs": [],
   "source": []
  },
  {
   "cell_type": "code",
   "execution_count": null,
   "id": "fa921c80-5467-4c28-ba0d-74519fd4fb24",
   "metadata": {},
   "outputs": [],
   "source": []
  },
  {
   "cell_type": "code",
   "execution_count": null,
   "id": "aed5efb0-38d5-4a90-abb8-7e2c1209793e",
   "metadata": {},
   "outputs": [],
   "source": []
  },
  {
   "cell_type": "code",
   "execution_count": null,
   "id": "059ff67a-8830-43b4-9c03-95dbced14cbb",
   "metadata": {},
   "outputs": [],
   "source": []
  },
  {
   "cell_type": "code",
   "execution_count": null,
   "id": "c35cae98-6982-47e3-a7fb-190211c79eb2",
   "metadata": {},
   "outputs": [],
   "source": []
  }
 ],
 "metadata": {
  "kernelspec": {
   "display_name": "Python 3 (ipykernel)",
   "language": "python",
   "name": "python3"
  },
  "language_info": {
   "codemirror_mode": {
    "name": "ipython",
    "version": 3
   },
   "file_extension": ".py",
   "mimetype": "text/x-python",
   "name": "python",
   "nbconvert_exporter": "python",
   "pygments_lexer": "ipython3",
   "version": "3.11.4"
  }
 },
 "nbformat": 4,
 "nbformat_minor": 5
}
