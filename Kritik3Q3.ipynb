{
 "cells": [
  {
   "cell_type": "code",
   "execution_count": 51,
   "id": "311d4adf-6d6e-478c-beb2-f8bf069dfdc6",
   "metadata": {},
   "outputs": [
    {
     "name": "stdout",
     "output_type": "stream",
     "text": [
      "x1: 0.999\n",
      "x2: 1.001\n"
     ]
    }
   ],
   "source": [
    "#3 i)\n",
    "import numpy as np\n",
    "\n",
    "def f(x):\n",
    "    return x**2\n",
    "\n",
    "c = 1\n",
    "E = 0.1\n",
    "\n",
    "n = 100\n",
    "x1 = c\n",
    "x2 = c\n",
    "deltax = 10**(-8)\n",
    "d = 0.001\n",
    "\n",
    "def fPrime(x):\n",
    "    return (f(x + deltax) - f(x - deltax)) / (2 * deltax)\n",
    "\n",
    "def L(x):\n",
    "    return f(c) + fPrime(c) * (x - c)\n",
    "\n",
    "for i in range(n):\n",
    "    x1 -= d\n",
    "    if abs(f(x1) - L(x1)) <= E:\n",
    "        print(\"x1:\", x1)\n",
    "        break\n",
    "    else: \n",
    "        print(\"No such x1 can be found\")\n",
    "        break\n",
    "\n",
    "for i in range(n):\n",
    "    x2 += d\n",
    "    if abs(f(x2) - L(x2)) <= E:\n",
    "        print(\"x2:\", x2)\n",
    "        break\n",
    "    else:\n",
    "        print(\"No such x2 can be found\")\n",
    "        break\n"
   ]
  },
  {
   "cell_type": "code",
   "execution_count": 50,
   "id": "99a0d8c0-55bb-45a5-be91-b321829948e4",
   "metadata": {},
   "outputs": [
    {
     "name": "stdout",
     "output_type": "stream",
     "text": [
      "x1: 0.7843981633974483\n",
      "x2: 0.7863981633974483\n"
     ]
    }
   ],
   "source": [
    "#3 ii)\n",
    "import numpy as np\n",
    "\n",
    "def f(x):\n",
    "    return np.sin(x)\n",
    "\n",
    "c = np.pi/4\n",
    "E = 0.1\n",
    "\n",
    "n = 100\n",
    "x1 = c\n",
    "x2 = c\n",
    "deltax = 10**(-8)\n",
    "d = 0.001\n",
    "\n",
    "def fPrime(x):\n",
    "    return (f(x + deltax) - f(x - deltax)) / (2 * deltax)\n",
    "\n",
    "def L(x):\n",
    "    return f(c) + fPrime(c) * (x - c)\n",
    "\n",
    "for i in range(n):\n",
    "    x1 -= d\n",
    "    if abs(f(x1) - L(x1)) <= E:\n",
    "        print(\"x1:\", x1)\n",
    "        break\n",
    "    else: \n",
    "        print(\"No such x1 can be found\")\n",
    "        break\n",
    "\n",
    "for i in range(n):\n",
    "    x2 += d\n",
    "    if abs(f(x2) - L(x2)) <= E:\n",
    "        print(\"x2:\", x2)\n",
    "        break\n",
    "    else:\n",
    "        print(\"No such x2 can be found\")\n",
    "        break\n"
   ]
  },
  {
   "cell_type": "code",
   "execution_count": 54,
   "id": "401af77e-3026-4858-b74e-6c11c27ef4f1",
   "metadata": {},
   "outputs": [
    {
     "name": "stdout",
     "output_type": "stream",
     "text": [
      "x1: -0.001\n",
      "x2: 0.001\n"
     ]
    }
   ],
   "source": [
    "#3 iii)\n",
    "\n",
    "import numpy as np\n",
    "\n",
    "def f(x):\n",
    "    return np.exp(x)\n",
    "\n",
    "c = 0\n",
    "E = 0.01\n",
    "\n",
    "n = 100\n",
    "x1 = c\n",
    "x2 = c\n",
    "deltax = 10**(-8)\n",
    "d = 0.001\n",
    "\n",
    "def fPrime(x):\n",
    "    return (f(x + deltax) - f(x - deltax)) / (2 * deltax)\n",
    "\n",
    "def L(x):\n",
    "    return f(c) + fPrime(c) * (x - c)\n",
    "\n",
    "for i in range(n):\n",
    "    x1 -= d\n",
    "    if abs(f(x1) - L(x1)) <= E:\n",
    "        print(\"x1:\", x1)\n",
    "        break\n",
    "    else: \n",
    "        print(\"No such x1 can be found\")\n",
    "        break\n",
    "\n",
    "for i in range(n):\n",
    "    x2 += d\n",
    "    if abs(f(x2) - L(x2)) <= E:\n",
    "        print(\"x2:\", x2)\n",
    "        break\n",
    "    else:\n",
    "        print(\"No such x2 can be found\")\n",
    "        break"
   ]
  },
  {
   "cell_type": "code",
   "execution_count": null,
   "id": "8f9f966a-8b36-4cd2-b3f2-9007470e753b",
   "metadata": {},
   "outputs": [],
   "source": []
  },
  {
   "cell_type": "code",
   "execution_count": null,
   "id": "ade8b478-44fa-4368-bdbd-59e90ae3942e",
   "metadata": {},
   "outputs": [],
   "source": []
  },
  {
   "cell_type": "code",
   "execution_count": null,
   "id": "75d29d4f-b24e-4f7a-b64c-05caa88d7291",
   "metadata": {},
   "outputs": [],
   "source": []
  },
  {
   "cell_type": "code",
   "execution_count": null,
   "id": "1b7bed8d-2ab2-4571-aa48-a288e6cce7d3",
   "metadata": {},
   "outputs": [],
   "source": []
  },
  {
   "cell_type": "code",
   "execution_count": null,
   "id": "02b7f886-1abf-40aa-8a6d-0b9900715da3",
   "metadata": {},
   "outputs": [],
   "source": []
  },
  {
   "cell_type": "code",
   "execution_count": null,
   "id": "8c322fb1-4a55-4b2f-8fb9-44dec53cc949",
   "metadata": {},
   "outputs": [],
   "source": []
  },
  {
   "cell_type": "code",
   "execution_count": null,
   "id": "607fc6aa-1e8a-4b50-badc-7cb68f1b779c",
   "metadata": {},
   "outputs": [],
   "source": []
  },
  {
   "cell_type": "code",
   "execution_count": null,
   "id": "f107c9e2-8c57-4e56-8bac-c31c9433fb78",
   "metadata": {},
   "outputs": [],
   "source": []
  },
  {
   "cell_type": "code",
   "execution_count": null,
   "id": "e0ec83b0-41b7-4e11-95fe-8183b892b688",
   "metadata": {},
   "outputs": [],
   "source": []
  },
  {
   "cell_type": "code",
   "execution_count": null,
   "id": "55747f8a-bcb1-462f-b1ce-608f0532ec1c",
   "metadata": {},
   "outputs": [],
   "source": []
  },
  {
   "cell_type": "code",
   "execution_count": null,
   "id": "36d20823-9954-4cba-885f-fad544374fa1",
   "metadata": {},
   "outputs": [],
   "source": []
  },
  {
   "cell_type": "code",
   "execution_count": null,
   "id": "0dded355-469e-4aea-b440-4c2b5a508c35",
   "metadata": {},
   "outputs": [],
   "source": []
  },
  {
   "cell_type": "code",
   "execution_count": null,
   "id": "90411e65-a3eb-4159-97a7-def6e1232fe3",
   "metadata": {},
   "outputs": [],
   "source": []
  },
  {
   "cell_type": "code",
   "execution_count": null,
   "id": "50a60309-da3c-49b7-b0d7-0bf047320fa5",
   "metadata": {},
   "outputs": [],
   "source": []
  },
  {
   "cell_type": "code",
   "execution_count": null,
   "id": "12dab50f-9323-4dfe-963b-321cae9361cf",
   "metadata": {},
   "outputs": [],
   "source": []
  },
  {
   "cell_type": "code",
   "execution_count": null,
   "id": "8e168c28-293d-42d8-bd19-49cc240be981",
   "metadata": {},
   "outputs": [],
   "source": []
  },
  {
   "cell_type": "code",
   "execution_count": null,
   "id": "dc14c569-3a2f-41e6-bd15-2ebd8e2ed321",
   "metadata": {},
   "outputs": [],
   "source": []
  },
  {
   "cell_type": "code",
   "execution_count": null,
   "id": "3979aeef-1d28-429f-b64b-a8f0fdc08fb0",
   "metadata": {},
   "outputs": [],
   "source": []
  },
  {
   "cell_type": "code",
   "execution_count": null,
   "id": "6739a565-f2ca-4253-aa48-d49d990c4c19",
   "metadata": {},
   "outputs": [],
   "source": []
  },
  {
   "cell_type": "code",
   "execution_count": null,
   "id": "f7595e3d-ecdf-4761-ab9c-cfb6389831e8",
   "metadata": {},
   "outputs": [],
   "source": []
  },
  {
   "cell_type": "code",
   "execution_count": null,
   "id": "9760d638-3e50-4152-959a-135a6510e2ac",
   "metadata": {},
   "outputs": [],
   "source": []
  },
  {
   "cell_type": "code",
   "execution_count": null,
   "id": "e5dd932c-bd72-4da1-9795-097669d972de",
   "metadata": {},
   "outputs": [],
   "source": []
  },
  {
   "cell_type": "code",
   "execution_count": null,
   "id": "e2e07da7-494f-4f91-a2ff-539ce8723475",
   "metadata": {},
   "outputs": [],
   "source": []
  },
  {
   "cell_type": "code",
   "execution_count": null,
   "id": "daf789ac-c3ec-4e12-bfed-949afe52b0c5",
   "metadata": {},
   "outputs": [],
   "source": []
  },
  {
   "cell_type": "code",
   "execution_count": null,
   "id": "8fdaa8ff-0f92-4350-a8e2-28caa2910461",
   "metadata": {},
   "outputs": [],
   "source": []
  },
  {
   "cell_type": "code",
   "execution_count": null,
   "id": "65f086e2-ef09-483f-843b-f77876bd9dde",
   "metadata": {},
   "outputs": [],
   "source": []
  },
  {
   "cell_type": "code",
   "execution_count": null,
   "id": "8cd99246-577d-4be9-b78f-8863cba01a0b",
   "metadata": {},
   "outputs": [],
   "source": []
  },
  {
   "cell_type": "code",
   "execution_count": null,
   "id": "7f3aa308-a2b7-4e59-9211-8854de449d54",
   "metadata": {},
   "outputs": [],
   "source": []
  },
  {
   "cell_type": "code",
   "execution_count": null,
   "id": "4a2c3243-ca8c-44c7-aa82-26331e0c6834",
   "metadata": {},
   "outputs": [],
   "source": []
  },
  {
   "cell_type": "code",
   "execution_count": null,
   "id": "7b4d76dc-3365-4a50-804d-8f48bf165c20",
   "metadata": {},
   "outputs": [],
   "source": []
  },
  {
   "cell_type": "code",
   "execution_count": null,
   "id": "3f7267e2-cf7f-4cd3-98be-3168f9712e40",
   "metadata": {},
   "outputs": [],
   "source": []
  },
  {
   "cell_type": "code",
   "execution_count": null,
   "id": "89d97666-db77-4662-98ec-fa96b74026af",
   "metadata": {},
   "outputs": [],
   "source": []
  },
  {
   "cell_type": "code",
   "execution_count": null,
   "id": "06304a7b-033a-4ac2-8572-c3a80b4da410",
   "metadata": {},
   "outputs": [],
   "source": []
  },
  {
   "cell_type": "code",
   "execution_count": null,
   "id": "4f1152d6-62ea-48d8-913b-8e30389b7624",
   "metadata": {},
   "outputs": [],
   "source": []
  },
  {
   "cell_type": "code",
   "execution_count": null,
   "id": "76697acf-5b9d-4349-b1a6-6a30893e9885",
   "metadata": {},
   "outputs": [],
   "source": []
  },
  {
   "cell_type": "code",
   "execution_count": null,
   "id": "b9ea4924-fe52-4d0f-89c7-0d78b4ac7bb0",
   "metadata": {},
   "outputs": [],
   "source": []
  },
  {
   "cell_type": "code",
   "execution_count": null,
   "id": "0ddb6400-abee-4469-9f67-e94ca1d97f36",
   "metadata": {},
   "outputs": [],
   "source": []
  },
  {
   "cell_type": "code",
   "execution_count": null,
   "id": "ab7d0c43-0577-4bc4-b8cb-514df72bedfe",
   "metadata": {},
   "outputs": [],
   "source": []
  },
  {
   "cell_type": "code",
   "execution_count": null,
   "id": "c236a2aa-5976-44b3-9127-6d2dbb55b178",
   "metadata": {},
   "outputs": [],
   "source": []
  },
  {
   "cell_type": "code",
   "execution_count": null,
   "id": "dab425d0-e1fe-45dd-85b2-c86c222a17c7",
   "metadata": {},
   "outputs": [],
   "source": []
  },
  {
   "cell_type": "code",
   "execution_count": null,
   "id": "9b64bd36-f9f4-4310-ab0c-63c8177b575a",
   "metadata": {},
   "outputs": [],
   "source": []
  },
  {
   "cell_type": "code",
   "execution_count": null,
   "id": "c6187a12-b4f5-4a89-9518-ff5e1d669129",
   "metadata": {},
   "outputs": [],
   "source": []
  },
  {
   "cell_type": "code",
   "execution_count": null,
   "id": "b81e1ed2-ca29-4e65-a543-92f6f9370958",
   "metadata": {},
   "outputs": [],
   "source": []
  },
  {
   "cell_type": "code",
   "execution_count": null,
   "id": "d8b114c4-44ae-4419-82af-7eae1bced63d",
   "metadata": {},
   "outputs": [],
   "source": []
  },
  {
   "cell_type": "code",
   "execution_count": null,
   "id": "692618a9-9aeb-4483-b438-46ea9addf829",
   "metadata": {},
   "outputs": [],
   "source": []
  },
  {
   "cell_type": "code",
   "execution_count": null,
   "id": "bf6d57fe-37cc-45d7-b20b-03e755f18364",
   "metadata": {},
   "outputs": [],
   "source": []
  },
  {
   "cell_type": "code",
   "execution_count": null,
   "id": "3e741edd-150d-4799-bb74-52aeffae1c0d",
   "metadata": {},
   "outputs": [],
   "source": []
  },
  {
   "cell_type": "code",
   "execution_count": null,
   "id": "31236b8e-32c1-4b6a-a088-2b4ebb3c0518",
   "metadata": {},
   "outputs": [],
   "source": []
  },
  {
   "cell_type": "code",
   "execution_count": null,
   "id": "d049b0cf-78e9-47b4-9e28-8d92c7cc0e5e",
   "metadata": {},
   "outputs": [],
   "source": []
  },
  {
   "cell_type": "code",
   "execution_count": null,
   "id": "776b82df-4708-4e44-a5ba-1bb655934873",
   "metadata": {},
   "outputs": [],
   "source": []
  },
  {
   "cell_type": "code",
   "execution_count": null,
   "id": "73482925-d191-4d62-9fee-5877a1e2e50e",
   "metadata": {},
   "outputs": [],
   "source": []
  },
  {
   "cell_type": "code",
   "execution_count": null,
   "id": "d4311a8e-ce62-4b69-9596-fb58c3696de3",
   "metadata": {},
   "outputs": [],
   "source": []
  },
  {
   "cell_type": "code",
   "execution_count": null,
   "id": "4603971d-85ac-4b71-9446-b0f0c1767eba",
   "metadata": {},
   "outputs": [],
   "source": []
  },
  {
   "cell_type": "code",
   "execution_count": null,
   "id": "8cf8cacd-3368-4ba1-a3dd-b42c7be9a601",
   "metadata": {},
   "outputs": [],
   "source": []
  },
  {
   "cell_type": "code",
   "execution_count": null,
   "id": "5afa3bc4-edff-45e1-ad1f-9449c1cdb86a",
   "metadata": {},
   "outputs": [],
   "source": []
  },
  {
   "cell_type": "code",
   "execution_count": null,
   "id": "1f6d4470-c25b-4167-acb6-756277cadb38",
   "metadata": {},
   "outputs": [],
   "source": []
  },
  {
   "cell_type": "code",
   "execution_count": null,
   "id": "57d3b241-fa1e-483a-ad91-9e3e7e9e180f",
   "metadata": {},
   "outputs": [],
   "source": []
  },
  {
   "cell_type": "code",
   "execution_count": null,
   "id": "bd2b5bf0-e4a6-4155-81a5-3583735655fc",
   "metadata": {},
   "outputs": [],
   "source": []
  },
  {
   "cell_type": "code",
   "execution_count": null,
   "id": "6680105e-d014-418f-9633-08f9eb538e55",
   "metadata": {},
   "outputs": [],
   "source": []
  },
  {
   "cell_type": "code",
   "execution_count": null,
   "id": "ef853f7a-e3f8-4b9b-afc6-7bcb0b8e51e8",
   "metadata": {},
   "outputs": [],
   "source": []
  }
 ],
 "metadata": {
  "kernelspec": {
   "display_name": "Python 3 (ipykernel)",
   "language": "python",
   "name": "python3"
  },
  "language_info": {
   "codemirror_mode": {
    "name": "ipython",
    "version": 3
   },
   "file_extension": ".py",
   "mimetype": "text/x-python",
   "name": "python",
   "nbconvert_exporter": "python",
   "pygments_lexer": "ipython3",
   "version": "3.11.4"
  }
 },
 "nbformat": 4,
 "nbformat_minor": 5
}
