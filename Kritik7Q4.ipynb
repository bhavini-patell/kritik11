{
 "cells": [
  {
   "cell_type": "code",
   "execution_count": 7,
   "id": "769b491d-dbbc-4275-a8db-c579d15488fe",
   "metadata": {},
   "outputs": [
    {
     "name": "stdout",
     "output_type": "stream",
     "text": [
      "Mean: 82.382\n",
      "Standard Deviation: 10.193467189005581\n",
      "t0: 2.290087686017293\n",
      "t∗: 2.2522252225222523\n",
      "Is t0 in the interval [−t∗, t∗]? False\n"
     ]
    }
   ],
   "source": [
    "# Kritik Q4\n",
    "import numpy as np\n",
    "from scipy.special import gamma\n",
    "\n",
    "# Function to calculate the probability density of the t-distribution\n",
    "def t_distribution_pdf(x, nu):\n",
    "    coeff = gamma((nu + 1) / 2) / (np.sqrt(nu * np.pi) * gamma(nu/2))\n",
    "    density = coeff * (1 + x**2 / nu) ** (-0.5 * (nu + 1))\n",
    "    return density\n",
    "\n",
    "# Function to calculate mean and standard deviation of a list of numbers\n",
    "def calculate_mean_and_std(data):\n",
    "    n = len(data)\n",
    "    mean = sum(data) / n\n",
    "    std = (sum((x - mean) ** 2 for x in data) / (n-1)) ** 0.5\n",
    "    return mean, std\n",
    "\n",
    "# Function to calculate t0 value representing the difference from a guessed average\n",
    "def calculate_t_value(data, hypothesized_mean):\n",
    "    mean, std = calculate_mean_and_std(data)\n",
    "    n = len(data)\n",
    "    t_value = (mean - hypothesized_mean) / (std / (n**0.5))\n",
    "    return t_value\n",
    "\n",
    "# Function to find a special t∗ value for a probability distribution\n",
    "def find_t_star(prob, nu, x_start=0, x_end=20, num_points=10000):\n",
    "    x = np.linspace(x_start, x_end, num_points)\n",
    "    y = t_distribution_pdf(x, nu)\n",
    "    cdf = np.cumsum(y) * (x[1] - x[0])\n",
    "    target_half_prob = prob / 2\n",
    "    index = np.where(cdf >= target_half_prob)[0][0]\n",
    "    return x[index]\n",
    "\n",
    "# Function to check if t0 is within the specified range [−t∗, t∗]\n",
    "def is_t_in_interval(t_value, t_star):\n",
    "    return abs(t_value) <= t_star\n",
    "\n",
    "# Scenario data\n",
    "data = [92.64, 79.00, 84.79, 97.41, 93.68, 65.23, 84.50, 73.49, 73.97, 79.11]\n",
    "hypothesized_mean = 75\n",
    "certainty = 0.95\n",
    "degrees_of_freedom = len(data) - 1\n",
    "\n",
    "# Calculating t0\n",
    "t_value = calculate_t_value(data, hypothesized_mean)\n",
    "\n",
    "# Find t∗\n",
    "t_star = find_t_star(certainty, degrees_of_freedom)\n",
    "\n",
    "# Check if t0 is in the interval [−t∗, t∗]\n",
    "result = is_t_in_interval(t_value, t_star)\n",
    "\n",
    "# Print the results\n",
    "mean, std = calculate_mean_and_std(data)\n",
    "print(\"Mean:\", mean)\n",
    "print(\"Standard Deviation:\", std)\n",
    "print(\"t0:\", t_value)\n",
    "print(\"t∗:\", t_star)\n",
    "print(\"Is t0 in the interval [−t∗, t∗]?\", result)\n"
   ]
  },
  {
   "cell_type": "code",
   "execution_count": null,
   "id": "8872cada-d6a0-48f8-846c-be2121d0dc3a",
   "metadata": {},
   "outputs": [],
   "source": []
  }
 ],
 "metadata": {
  "kernelspec": {
   "display_name": "Python 3 (ipykernel)",
   "language": "python",
   "name": "python3"
  },
  "language_info": {
   "codemirror_mode": {
    "name": "ipython",
    "version": 3
   },
   "file_extension": ".py",
   "mimetype": "text/x-python",
   "name": "python",
   "nbconvert_exporter": "python",
   "pygments_lexer": "ipython3",
   "version": "3.11.4"
  }
 },
 "nbformat": 4,
 "nbformat_minor": 5
}
