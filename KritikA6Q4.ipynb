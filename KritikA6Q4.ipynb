{
 "cells": [
  {
   "cell_type": "code",
   "execution_count": 7,
   "id": "e73241e0-3d4d-47d3-b9b7-a54e29c9ed9b",
   "metadata": {},
   "outputs": [
    {
     "name": "stdout",
     "output_type": "stream",
     "text": [
      "Probability of a randomly chosen man having a height between 162cm and 190cm: 0.8938058844004274\n"
     ]
    }
   ],
   "source": [
    "#kritik assignment 6\n",
    "import numpy as np\n",
    "from scipy import integrate\n",
    "\n",
    "# Define the normal density function\n",
    "def normal_density(mean, variance, x):\n",
    "    # Calculate the exponent term in the normal density function\n",
    "    exponent = -(x - mean)**2 / (2 * variance)\n",
    "    # Calculate and return the normal density value\n",
    "    return 1 / np.sqrt(2 * np.pi * variance) * np.exp(exponent)\n",
    "\n",
    "# Define a function for numerical integration using scipy\n",
    "def numerical_integration(mean, variance, a, b):\n",
    "    # Define the integrand using the normal density function\n",
    "    integrand = lambda x: normal_density(mean, variance, x)\n",
    "    # Use quad function from scipy to perform numerical integration\n",
    "    result, _ = integrate.quad(integrand, a, b)\n",
    "    # Return the result of the integration\n",
    "    return result\n",
    "\n",
    "# Parameters for male heights\n",
    "mean_height_male = 171\n",
    "variance_height_male = 7.1**2\n",
    "\n",
    "# Calculate the probability of a randomly chosen man having a height between 162cm and 190cm\n",
    "probability_between_162_190 = numerical_integration(mean_height_male, variance_height_male, 162, 190)\n",
    "\n",
    "# Print the result with appropriate formatting\n",
    "print(f\"Probability of a randomly chosen man having a height between 162cm and 190cm: {probability_between_162_190:.16f}\")\n"
   ]
  },
  {
   "cell_type": "code",
   "execution_count": null,
   "id": "8d2bb6cc-c760-488c-9ef5-07cb24ef1a3d",
   "metadata": {},
   "outputs": [],
   "source": []
  }
 ],
 "metadata": {
  "kernelspec": {
   "display_name": "Python 3 (ipykernel)",
   "language": "python",
   "name": "python3"
  },
  "language_info": {
   "codemirror_mode": {
    "name": "ipython",
    "version": 3
   },
   "file_extension": ".py",
   "mimetype": "text/x-python",
   "name": "python",
   "nbconvert_exporter": "python",
   "pygments_lexer": "ipython3",
   "version": "3.11.4"
  }
 },
 "nbformat": 4,
 "nbformat_minor": 5
}
